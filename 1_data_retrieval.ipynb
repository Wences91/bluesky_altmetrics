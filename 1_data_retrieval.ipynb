{
 "cells": [
  {
   "cell_type": "markdown",
   "id": "7c6137bd-bd4c-4def-94b5-a8895eb86b6c",
   "metadata": {},
   "source": [
    "# Packages"
   ]
  },
  {
   "cell_type": "code",
   "execution_count": 1,
   "id": "946e6228-98ca-4c31-b103-905badd47a8d",
   "metadata": {
    "tags": []
   },
   "outputs": [],
   "source": [
    "import requests\n",
    "import pandas as pd\n",
    "import re\n",
    "from datetime import datetime\n",
    "import matplotlib.pyplot as plt\n",
    "from requests.auth import HTTPBasicAuth\n",
    "import time\n",
    "from datetime import datetime"
   ]
  },
  {
   "cell_type": "markdown",
   "id": "cbeb9bc1-a268-418c-84e0-cfe7afc8ebdf",
   "metadata": {},
   "source": [
    "# Main functions"
   ]
  },
  {
   "cell_type": "code",
   "execution_count": 3,
   "id": "addf2f02-e318-4b33-86bc-b76e9f7d632e",
   "metadata": {
    "tags": []
   },
   "outputs": [],
   "source": [
    "def parse_rate_limit_headers(headers):\n",
    "    limit = int(headers.get('RateLimit-Limit', 0))\n",
    "    remaining = int(headers.get('RateLimit-Remaining', 0))\n",
    "    reset_timestamp = int(headers.get('RateLimit-Reset', 0))\n",
    "    \n",
    "    current_timestamp = int(time.time())\n",
    "    reset_in_seconds = reset_timestamp - current_timestamp\n",
    "\n",
    "    print(f\"Límite máximo: {limit}\")\n",
    "    print(f\"Solicitudes restantes: {remaining}\")\n",
    "    print(f\"Tiempo hasta reinicio: {reset_in_seconds} segundos ({reset_in_seconds / 60:.2f} minutos)\")\n",
    "\n",
    "    return limit, remaining, reset_in_seconds"
   ]
  },
  {
   "cell_type": "code",
   "execution_count": 5,
   "id": "97a89887-789a-433e-a34d-5385ddd54e04",
   "metadata": {
    "tags": []
   },
   "outputs": [],
   "source": [
    "def get_altmetric_data(doi):\n",
    "    base_url = \"https://api.altmetric.com/v1/doi/\"\n",
    "    try:\n",
    "        response = requests.get(base_url + doi)\n",
    "        if response.status_code == 200:\n",
    "            data = response.json()\n",
    "            twitter_mentions = data.get('cited_by_tweeters_count', 0)\n",
    "            return twitter_mentions\n",
    "        else:\n",
    "            return 0\n",
    "    except Exception as e:\n",
    "        return None"
   ]
  },
  {
   "cell_type": "code",
   "execution_count": 7,
   "id": "09072ccc-45d1-4085-b363-be96b36f91df",
   "metadata": {
    "tags": []
   },
   "outputs": [],
   "source": [
    "def doi_to_url(doi):\n",
    "    try:\n",
    "        response = requests.head(doi, allow_redirects=True, timeout=10)\n",
    "        if response.status_code == 200:\n",
    "            return response.url\n",
    "    except Exception:\n",
    "        pass\n",
    "    return None"
   ]
  },
  {
   "cell_type": "code",
   "execution_count": 9,
   "id": "279f9f54-6eba-461c-b827-20e1f9415fc9",
   "metadata": {
    "tags": []
   },
   "outputs": [],
   "source": [
    "def generar_cadena_or_completa(row):\n",
    "    partes = []\n",
    "    \n",
    "    doi = row['doi']\n",
    "    if pd.notna(doi):\n",
    "        partes.append(re.sub(r'^https://doi.org/', '', doi))\n",
    "    \n",
    "    resolved_url = row['url_final']\n",
    "    if pd.notna(resolved_url):\n",
    "        partes.append(resolved_url)\n",
    "    \n",
    "    titulo = row['title']\n",
    "    if pd.notna(titulo):\n",
    "        partes.append(f'\"{titulo}\"')\n",
    "    \n",
    "    if 'locations.landing_page_url' in row and pd.notna(row['locations.landing_page_url']):\n",
    "        partes.extend(row['locations.landing_page_url'].split('|'))\n",
    "    if 'locations.pdf_url' in row and pd.notna(row['locations.pdf_url']):\n",
    "        partes.extend(row['locations.pdf_url'].split('|'))\n",
    "    \n",
    "    partes = [word for word in partes if word != 'None']\n",
    "    \n",
    "    return \"|\".join(set(partes))"
   ]
  },
  {
   "cell_type": "markdown",
   "id": "41aa85f4-3b09-40d4-971c-0439aca9c238",
   "metadata": {},
   "source": [
    "# Bluesky login"
   ]
  },
  {
   "cell_type": "code",
   "execution_count": 100,
   "id": "828e4b4e-e76b-49c1-ab0e-5ecb271a33bc",
   "metadata": {
    "tags": []
   },
   "outputs": [],
   "source": [
    "username = '' \n",
    "app_password = ''\n",
    "\n",
    "auth_url = 'https://bsky.social/xrpc/com.atproto.server.createSession'\n",
    "\n",
    "auth_data = {\n",
    "    'identifier': username,\n",
    "    'password': app_password\n",
    "}\n",
    "\n",
    "auth_response = requests.post(auth_url, json=auth_data)"
   ]
  },
  {
   "cell_type": "code",
   "execution_count": null,
   "id": "1881b7a2-f7f6-457a-9160-507d6a7b3b61",
   "metadata": {
    "tags": []
   },
   "outputs": [],
   "source": [
    "auth_response"
   ]
  },
  {
   "cell_type": "markdown",
   "id": "92e6b782-0a12-4094-b23d-c8aa2e263293",
   "metadata": {
    "jp-MarkdownHeadingCollapsed": true,
    "tags": []
   },
   "source": [
    "# 1. Scientometrics"
   ]
  },
  {
   "cell_type": "code",
   "execution_count": null,
   "id": "1ec70a17-70b8-4769-aeb3-bc08488c4163",
   "metadata": {
    "tags": []
   },
   "outputs": [],
   "source": [
    "df = pd.read_csv('data/scientometrics.csv')\n",
    "df['title'] = df['title'].str.replace('&amp;', '&', regex=False)\n",
    "df"
   ]
  },
  {
   "cell_type": "code",
   "execution_count": null,
   "id": "6a8f6155-48f2-4b5a-84ff-37bf21e34584",
   "metadata": {
    "tags": []
   },
   "outputs": [],
   "source": [
    "df.type.value_counts()"
   ]
  },
  {
   "cell_type": "markdown",
   "id": "639b4239-b15e-44be-b0fe-513c6869967a",
   "metadata": {
    "tags": []
   },
   "source": [
    "## Solve URL"
   ]
  },
  {
   "cell_type": "code",
   "execution_count": 25,
   "id": "7c21dbed-a26e-4f73-baf4-82885f1b3046",
   "metadata": {
    "tags": []
   },
   "outputs": [],
   "source": [
    "df['url_final'] = None"
   ]
  },
  {
   "cell_type": "code",
   "execution_count": null,
   "id": "e07f5477-a593-4ea1-b19e-66adde5fe86b",
   "metadata": {
    "tags": []
   },
   "outputs": [],
   "source": [
    "for i in range(df.shape[0]):\n",
    "    print(i, end='\\r')\n",
    "    df.loc[i, 'url_final'] = doi_to_url(df.loc[i, 'doi'])"
   ]
  },
  {
   "cell_type": "markdown",
   "id": "012a5f77-6f88-4606-94da-254b617a7537",
   "metadata": {
    "tags": []
   },
   "source": [
    "## Query string"
   ]
  },
  {
   "cell_type": "code",
   "execution_count": 29,
   "id": "439741c7-0a00-4d9f-ae22-3ef82a698e53",
   "metadata": {
    "tags": []
   },
   "outputs": [],
   "source": [
    "df['query_string'] = None"
   ]
  },
  {
   "cell_type": "code",
   "execution_count": null,
   "id": "1ad3267a-2f77-4090-bed8-1457a870ddd6",
   "metadata": {
    "tags": []
   },
   "outputs": [],
   "source": [
    "for i in range(df.shape[0]):\n",
    "    print(i, end='\\r')\n",
    "    df.loc[i, 'query_string'] = generar_cadena_or_completa(df.iloc[i,])"
   ]
  },
  {
   "cell_type": "code",
   "execution_count": null,
   "id": "b0b28a62-0568-4deb-a3f1-00891a23858e",
   "metadata": {
    "tags": []
   },
   "outputs": [],
   "source": [
    "df.loc[0,'query_string']"
   ]
  },
  {
   "cell_type": "markdown",
   "id": "162d4439-97fc-4710-b87b-24e099fbc4e6",
   "metadata": {},
   "source": [
    "## Bluesky"
   ]
  },
  {
   "cell_type": "code",
   "execution_count": 36,
   "id": "05e1c45e-093c-4b9e-adc1-556d6334185b",
   "metadata": {
    "tags": []
   },
   "outputs": [],
   "source": [
    "df['bsky_mentions'] = None"
   ]
  },
  {
   "cell_type": "code",
   "execution_count": 38,
   "id": "bd35ba26-946e-4ae1-b7c2-bf25eec2300f",
   "metadata": {
    "tags": []
   },
   "outputs": [],
   "source": [
    "search_url = 'https://bsky.social/xrpc/app.bsky.feed.searchPosts'\n",
    "access_token = auth_response.json().get('accessJwt')\n",
    "headers = {\n",
    "            'Authorization': f'Bearer {access_token}'\n",
    "    }"
   ]
  },
  {
   "cell_type": "code",
   "execution_count": null,
   "id": "403133a3-f15b-43b2-805b-7ff1e93288ca",
   "metadata": {
    "tags": []
   },
   "outputs": [],
   "source": [
    "df.loc[0,'query_string'].split('|')"
   ]
  },
  {
   "cell_type": "code",
   "execution_count": 48,
   "id": "b3f85cbb-c62a-4fca-bb48-e3b266ddd647",
   "metadata": {
    "tags": []
   },
   "outputs": [],
   "source": [
    "df_bsky = pd.DataFrame()"
   ]
  },
  {
   "cell_type": "code",
   "execution_count": 50,
   "id": "5eb3faf6-c6b5-4504-b647-c8c91ab981ec",
   "metadata": {
    "tags": []
   },
   "outputs": [],
   "source": [
    "bsky_columns = ['uri', 'cid', 'indexedAt', 'record_text', 'author_did', 'author_handle', 'record_text', 'replyCount', 'repostCount', 'likeCount', 'quoteCount']"
   ]
  },
  {
   "cell_type": "code",
   "execution_count": null,
   "id": "1752b0a2-62ca-4628-917f-0103a1f08973",
   "metadata": {
    "tags": []
   },
   "outputs": [],
   "source": [
    "for query in range(df.shape[0]):\n",
    "    print(query, end='\\r')\n",
    "    posts_bsk = []\n",
    "\n",
    "    for subquery in df.loc[query, 'query_string'].split('|'):\n",
    "        params = {\n",
    "            'q': subquery,\n",
    "            'limit': 100\n",
    "        }\n",
    "        \n",
    "        search_response = requests.get(search_url, headers=headers, params=params)\n",
    "        \n",
    "        if search_response.status_code == 401:\n",
    "            print(\"Token expirado. Reautenticando...\")\n",
    "            auth_response = requests.post(auth_url, json=auth_data)\n",
    "            if auth_response.status_code == 200:\n",
    "                access_token = auth_response.json().get('accessJwt')\n",
    "                headers['Authorization'] = f'Bearer {access_token}'\n",
    "                print(\"Reautenticación exitosa. Reintentando solicitud...\")\n",
    "                search_response = requests.get(search_url, headers=headers, params=params)\n",
    "            else:\n",
    "                print(f\"Error al reautenticar: {auth_response.status_code}\")\n",
    "                exit()\n",
    "\n",
    "        \n",
    "        rate_limit_remaining = int(search_response.headers.get('RateLimit-Remaining', 0))\n",
    "        rate_limit_reset = int(search_response.headers.get('RateLimit-Reset', 0))\n",
    "\n",
    "        if rate_limit_remaining == 0:\n",
    "            current_timestamp = int(time.time())\n",
    "            wait_time = rate_limit_reset - current_timestamp\n",
    "            print(f\"Se alcanzó el límite de solicitudes. Esperando {wait_time} segundos...\")\n",
    "            time.sleep(wait_time)\n",
    "            continue\n",
    "\n",
    "        if search_response.status_code == 200:\n",
    "            posts = search_response.json().get('posts', [])\n",
    "            posts_bsk.extend(posts)\n",
    "        else:\n",
    "            print(f\"Error en la búsqueda: {query}\")\n",
    "            continue\n",
    "\n",
    "    if len(posts_bsk) > 0:\n",
    "        df.loc[query, 'bsky_mentions'] = pd.DataFrame(posts_bsk).uri.drop_duplicates().shape[0]\n",
    "        df_bsky_aux = pd.json_normalize(posts_bsk, sep='_')\n",
    "        df_bsky_aux = df_bsky_aux[bsky_columns]\n",
    "        df_bsky_aux['doi'] = df.loc[query, 'doi']\n",
    "        df_bsky = pd.concat([df_bsky, df_bsky_aux], axis=0)\n",
    "    else:\n",
    "        df.loc[query, 'bsky_mentions'] = 0"
   ]
  },
  {
   "cell_type": "code",
   "execution_count": null,
   "id": "dd24e2ef-7f1c-4305-b781-90765d40966c",
   "metadata": {
    "tags": []
   },
   "outputs": [],
   "source": [
    "df_bsky = df_bsky.reset_index(drop=True).drop_duplicates()\n",
    "df_bsky"
   ]
  },
  {
   "cell_type": "code",
   "execution_count": null,
   "id": "03390a4f-57b3-4ae8-9916-c7f2e73dff98",
   "metadata": {
    "tags": []
   },
   "outputs": [],
   "source": [
    "df_bsky[df_bsky.doi=='https://doi.org/10.1007/s11192-023-04894-0']"
   ]
  },
  {
   "cell_type": "code",
   "execution_count": null,
   "id": "1d8760cb-a938-4cd8-b152-24fe1609f509",
   "metadata": {
    "tags": []
   },
   "outputs": [],
   "source": [
    "sum(df['bsky_mentions'])"
   ]
  },
  {
   "cell_type": "code",
   "execution_count": null,
   "id": "95213373-8d11-480b-a93b-5f358ea4de5e",
   "metadata": {
    "tags": []
   },
   "outputs": [],
   "source": [
    "sum(df['bsky_mentions']>0)"
   ]
  },
  {
   "cell_type": "code",
   "execution_count": null,
   "id": "1184aaeb-8156-4cc1-8763-09a93cbcd332",
   "metadata": {
    "tags": []
   },
   "outputs": [],
   "source": [
    "df_bsky.groupby('doi')['author_did'].nunique().reset_index()['author_did'].mean()"
   ]
  },
  {
   "cell_type": "markdown",
   "id": "2bfceed5-0faf-41b2-8486-60a33a838ee9",
   "metadata": {
    "tags": []
   },
   "source": [
    "## X (via Altmetric.com)"
   ]
  },
  {
   "cell_type": "code",
   "execution_count": 56,
   "id": "628268f7-f448-4ed6-a80c-07648eb8d2b2",
   "metadata": {
    "tags": []
   },
   "outputs": [],
   "source": [
    "df['x_mentions'] = None"
   ]
  },
  {
   "cell_type": "code",
   "execution_count": null,
   "id": "91aa041c-cfcd-456b-b7e0-6293cbe9c31e",
   "metadata": {
    "tags": []
   },
   "outputs": [],
   "source": [
    "for i in range(df.shape[0]):\n",
    "    print(i, end='\\r')\n",
    "    df.loc[i, 'x_mentions'] = get_altmetric_data(re.sub(r'^https://doi.org/', '', df.loc[i,'doi']))"
   ]
  },
  {
   "cell_type": "code",
   "execution_count": null,
   "id": "00f01774-1d91-4d73-a698-bf2b2565f45a",
   "metadata": {
    "tags": []
   },
   "outputs": [],
   "source": [
    "sum(df['x_mentions']>0)"
   ]
  },
  {
   "cell_type": "code",
   "execution_count": null,
   "id": "8b51a5b2-2bc3-4d2f-824c-0cd5593593c1",
   "metadata": {
    "tags": []
   },
   "outputs": [],
   "source": [
    "df[df['x_mentions']>0]['x_mentions'].mean()"
   ]
  },
  {
   "cell_type": "markdown",
   "id": "0a992ff5-b1f9-498c-9a5f-2869ba8bf4a8",
   "metadata": {},
   "source": [
    "## Export"
   ]
  },
  {
   "cell_type": "code",
   "execution_count": 109,
   "id": "400b9fec-741b-4b96-a81a-93854600719e",
   "metadata": {
    "tags": []
   },
   "outputs": [],
   "source": [
    "df.to_csv('results/scientometrics.tsv', sep='\\t', index=False)"
   ]
  },
  {
   "cell_type": "code",
   "execution_count": 113,
   "id": "10437e58-f1a1-4dd4-93f6-8845cfc6c343",
   "metadata": {
    "tags": []
   },
   "outputs": [],
   "source": [
    "df_bsky.to_csv('results/scientometrics_bsky.tsv', sep='\\t', index=False)"
   ]
  },
  {
   "cell_type": "markdown",
   "id": "4127e31b-6d54-4592-be7f-dd73a7220bc2",
   "metadata": {
    "jp-MarkdownHeadingCollapsed": true,
    "tags": []
   },
   "source": [
    "# 2. JASIST"
   ]
  },
  {
   "cell_type": "code",
   "execution_count": null,
   "id": "b4e441cb-26cb-4aae-a8e5-18da956122c1",
   "metadata": {
    "tags": []
   },
   "outputs": [],
   "source": [
    "df = pd.read_csv('data/jasist.csv')\n",
    "df['title'] = df['title'].str.replace('&amp;', '&', regex=False)\n",
    "df"
   ]
  },
  {
   "cell_type": "code",
   "execution_count": null,
   "id": "7e226495-cb8c-4add-a764-0e739dc09623",
   "metadata": {
    "tags": []
   },
   "outputs": [],
   "source": [
    "df.type.value_counts()"
   ]
  },
  {
   "cell_type": "code",
   "execution_count": null,
   "id": "ba3f9f5d-d9e2-4f61-b556-ed2272b0329d",
   "metadata": {
    "tags": []
   },
   "outputs": [],
   "source": [
    "df = df[df.type!='paratext']\n",
    "df = df.reset_index(drop=True)\n",
    "df"
   ]
  },
  {
   "cell_type": "markdown",
   "id": "5ae2b4c2-35eb-4934-8391-490ed42d4cba",
   "metadata": {
    "tags": []
   },
   "source": [
    "## Solve URL"
   ]
  },
  {
   "cell_type": "code",
   "execution_count": 142,
   "id": "9c0b86d0-44c0-4c54-ab0d-4147631fdd89",
   "metadata": {
    "tags": []
   },
   "outputs": [],
   "source": [
    "df['url_final'] = None"
   ]
  },
  {
   "cell_type": "code",
   "execution_count": null,
   "id": "cbc9133c-3e30-43ca-84f4-fcb8b1887120",
   "metadata": {
    "tags": []
   },
   "outputs": [],
   "source": [
    "for i in range(df.shape[0]):\n",
    "    print(i, end='\\r')\n",
    "    df.loc[i, 'url_final'] = 'https://asistdl.onlinelibrary.wiley.com/doi/'+re.sub(r'^https://doi.org/', '', df.loc[i, 'doi'])"
   ]
  },
  {
   "cell_type": "markdown",
   "id": "a3a4a7b2-d209-415c-9783-4b8f0c780e15",
   "metadata": {
    "tags": []
   },
   "source": [
    "## Query string"
   ]
  },
  {
   "cell_type": "code",
   "execution_count": 147,
   "id": "0dc659c6-45e0-402d-a4cb-47b332c47ce3",
   "metadata": {
    "tags": []
   },
   "outputs": [],
   "source": [
    "df['query_string'] = None"
   ]
  },
  {
   "cell_type": "code",
   "execution_count": null,
   "id": "3e2775b4-fe8b-426c-9c5d-a8e24d493bbf",
   "metadata": {
    "tags": []
   },
   "outputs": [],
   "source": [
    "for i in range(df.shape[0]):\n",
    "    print(i, end='\\r')\n",
    "    df.loc[i, 'query_string'] = generar_cadena_or_completa(df.iloc[i,])"
   ]
  },
  {
   "cell_type": "code",
   "execution_count": null,
   "id": "c3f012ed-b6f0-4954-9432-08bcdb9660fa",
   "metadata": {
    "tags": []
   },
   "outputs": [],
   "source": [
    "df.loc[0,'query_string']"
   ]
  },
  {
   "cell_type": "markdown",
   "id": "a55bd8f5-1bac-4777-8c0c-086ef5954799",
   "metadata": {},
   "source": [
    "## Bluesky"
   ]
  },
  {
   "cell_type": "code",
   "execution_count": 154,
   "id": "19dc8a5f-cdc4-4cf4-902e-6aea83896c2c",
   "metadata": {
    "tags": []
   },
   "outputs": [],
   "source": [
    "df['bsky_mentions'] = None"
   ]
  },
  {
   "cell_type": "code",
   "execution_count": 156,
   "id": "8a79e758-271d-4626-a920-fd8a4997e479",
   "metadata": {
    "tags": []
   },
   "outputs": [],
   "source": [
    "search_url = 'https://bsky.social/xrpc/app.bsky.feed.searchPosts'\n",
    "access_token = auth_response.json().get('accessJwt')\n",
    "headers = {\n",
    "            'Authorization': f'Bearer {access_token}'\n",
    "    }"
   ]
  },
  {
   "cell_type": "code",
   "execution_count": null,
   "id": "3d6e1b5e-4c25-48b4-9867-e696159d7fee",
   "metadata": {
    "tags": []
   },
   "outputs": [],
   "source": [
    "df.loc[0,'query_string'].split('|')"
   ]
  },
  {
   "cell_type": "code",
   "execution_count": 160,
   "id": "096d403f-a241-4e53-a244-c67223fb0e4e",
   "metadata": {
    "tags": []
   },
   "outputs": [],
   "source": [
    "df_bsky = pd.DataFrame()"
   ]
  },
  {
   "cell_type": "code",
   "execution_count": 162,
   "id": "75f9f87e-3a7c-4467-bcdc-3c9cee5449f1",
   "metadata": {
    "tags": []
   },
   "outputs": [],
   "source": [
    "bsky_columns = ['uri', 'cid', 'indexedAt', 'record_text', 'author_did', 'author_handle', 'record_text', 'replyCount', 'repostCount', 'likeCount', 'quoteCount']"
   ]
  },
  {
   "cell_type": "code",
   "execution_count": null,
   "id": "96212f59-acf4-4eaf-903d-8e8356a87304",
   "metadata": {
    "tags": []
   },
   "outputs": [],
   "source": [
    "for query in range(df.shape[0]):\n",
    "    print(query, end='\\r')\n",
    "    \n",
    "    posts_bsk = []\n",
    "    \n",
    "    for subquery in df.loc[query,'query_string'].split('|'):\n",
    "    \n",
    "        params = {\n",
    "                'q': subquery,\n",
    "                'limit': 100\n",
    "        }\n",
    "\n",
    "        search_response = requests.get(search_url, headers=headers, params=params)\n",
    "        posts = search_response.json().get('posts', [])\n",
    "        \n",
    "        posts_bsk = posts + posts_bsk\n",
    "    \n",
    "    if len(posts_bsk)>0:\n",
    "        df.loc[query, 'bsky_mentions'] = pd.DataFrame(posts_bsk).uri.drop_duplicates().shape[0]\n",
    "        df_bsky_aux = pd.json_normalize(posts_bsk, sep='_')\n",
    "        df_bsky_aux = df_bsky_aux[bsky_columns]\n",
    "        df_bsky_aux['doi'] = df.loc[query,'doi']\n",
    "        df_bsky = pd.concat([df_bsky, df_bsky_aux], axis=0)\n",
    "    else:\n",
    "        df.loc[query, 'bsky_mentions'] = 0"
   ]
  },
  {
   "cell_type": "code",
   "execution_count": null,
   "id": "b4066560-5e6a-4eb6-beec-ea5a93eb11ba",
   "metadata": {
    "tags": []
   },
   "outputs": [],
   "source": [
    "df_bsky = df_bsky.reset_index(drop=True).drop_duplicates()\n",
    "df_bsky"
   ]
  },
  {
   "cell_type": "code",
   "execution_count": null,
   "id": "62cb0530-4354-44f9-ba6f-ffa6a855e8e4",
   "metadata": {
    "tags": []
   },
   "outputs": [],
   "source": [
    "sum(df['bsky_mentions'])"
   ]
  },
  {
   "cell_type": "code",
   "execution_count": null,
   "id": "0990dbcf-dd5e-4394-bfbf-3c33ea668e1f",
   "metadata": {
    "tags": []
   },
   "outputs": [],
   "source": [
    "sum(df['bsky_mentions']>0)"
   ]
  },
  {
   "cell_type": "code",
   "execution_count": null,
   "id": "dbc104c3-65c8-493c-91a2-1ecf4a1cc870",
   "metadata": {
    "tags": []
   },
   "outputs": [],
   "source": [
    "df_bsky.groupby('doi')['author_did'].nunique().reset_index()['author_did'].mean()"
   ]
  },
  {
   "cell_type": "markdown",
   "id": "d0cc953c-cd49-444e-a74a-e2bd6e50a81e",
   "metadata": {
    "tags": []
   },
   "source": [
    "## X (via Altmetric.com)"
   ]
  },
  {
   "cell_type": "code",
   "execution_count": 170,
   "id": "654c4ce6-71c7-4f40-a897-dee7fdfcc11b",
   "metadata": {
    "tags": []
   },
   "outputs": [],
   "source": [
    "df['x_mentions'] = None"
   ]
  },
  {
   "cell_type": "code",
   "execution_count": null,
   "id": "c0d351f6-a2a8-407b-aecf-3df476958efd",
   "metadata": {
    "tags": []
   },
   "outputs": [],
   "source": [
    "for i in range(df.shape[0]):\n",
    "    print(i, end='\\r')\n",
    "    df.loc[i, 'x_mentions'] = get_altmetric_data(re.sub(r'^https://doi.org/', '', df.loc[i,'doi']))"
   ]
  },
  {
   "cell_type": "code",
   "execution_count": null,
   "id": "6dbfc2ed-f458-448b-b1db-1274a526b4f0",
   "metadata": {
    "tags": []
   },
   "outputs": [],
   "source": [
    "sum(df['x_mentions']>0)"
   ]
  },
  {
   "cell_type": "code",
   "execution_count": null,
   "id": "88571406-f257-4d8a-ad28-826a3bb7d81c",
   "metadata": {
    "tags": []
   },
   "outputs": [],
   "source": [
    "df[df['x_mentions']>0]['x_mentions'].mean()"
   ]
  },
  {
   "cell_type": "markdown",
   "id": "aaf39a02-8dc7-447f-b10d-0bd3992853cc",
   "metadata": {},
   "source": [
    "## Export"
   ]
  },
  {
   "cell_type": "code",
   "execution_count": 175,
   "id": "ad2ca8da-7fd1-4386-b46d-b0c99d7d993b",
   "metadata": {
    "tags": []
   },
   "outputs": [],
   "source": [
    "df.to_csv('results/jasist.tsv', sep='\\t', index=False)"
   ]
  },
  {
   "cell_type": "code",
   "execution_count": 176,
   "id": "1d02ff68-eee8-4d04-9ccf-2a49ffa6e61a",
   "metadata": {
    "tags": []
   },
   "outputs": [],
   "source": [
    "df_bsky.to_csv('results/jasist_bsky.tsv', sep='\\t', index=False)"
   ]
  },
  {
   "cell_type": "markdown",
   "id": "ddccf4d6-960e-481f-b863-9ea903c84164",
   "metadata": {
    "jp-MarkdownHeadingCollapsed": true,
    "tags": []
   },
   "source": [
    "# 3. Journal of Informetrics"
   ]
  },
  {
   "cell_type": "code",
   "execution_count": null,
   "id": "b65670b2-c50f-47cc-ae8c-6a1b6f5cc3bc",
   "metadata": {
    "tags": []
   },
   "outputs": [],
   "source": [
    "df = pd.read_csv('data/joi.csv')\n",
    "df['title'] = df['title'].str.replace('&amp;', '&', regex=False)\n",
    "df"
   ]
  },
  {
   "cell_type": "code",
   "execution_count": null,
   "id": "efad4910-cb56-4a0c-9dd6-0e53c5dfb308",
   "metadata": {
    "tags": []
   },
   "outputs": [],
   "source": [
    "df.type.value_counts()"
   ]
  },
  {
   "cell_type": "code",
   "execution_count": null,
   "id": "080d19ce-fcd0-4b81-a7f7-70db64cad3a1",
   "metadata": {
    "tags": []
   },
   "outputs": [],
   "source": [
    "df = df[df.type!='paratext']\n",
    "df = df.reset_index(drop=True)\n",
    "df"
   ]
  },
  {
   "cell_type": "markdown",
   "id": "2a81e58a-11b9-4d5e-95e7-728d4e4ee6f0",
   "metadata": {
    "tags": []
   },
   "source": [
    "## Solve URL"
   ]
  },
  {
   "cell_type": "code",
   "execution_count": 84,
   "id": "6fea0424-61c7-4288-b8c3-2a96e57fcc13",
   "metadata": {
    "tags": []
   },
   "outputs": [],
   "source": [
    "df['url_final'] = None"
   ]
  },
  {
   "cell_type": "code",
   "execution_count": null,
   "id": "8f05c706-e6be-4a7b-a40f-759babde76c0",
   "metadata": {
    "tags": []
   },
   "outputs": [],
   "source": [
    "for i in range(df.shape[0]):\n",
    "    print(i, end='\\r')\n",
    "    df.loc[i, 'url_final'] = doi_to_url(df.loc[i, 'doi'])"
   ]
  },
  {
   "cell_type": "markdown",
   "id": "7e9737d2-e656-4c15-9f59-3f2fab82a853",
   "metadata": {
    "tags": []
   },
   "source": [
    "## Query string"
   ]
  },
  {
   "cell_type": "code",
   "execution_count": 90,
   "id": "f5476c09-46fe-4d27-91d1-1b0cca00a779",
   "metadata": {
    "tags": []
   },
   "outputs": [],
   "source": [
    "df['query_string'] = None"
   ]
  },
  {
   "cell_type": "code",
   "execution_count": null,
   "id": "ef9ef2d7-01ac-4592-85ee-c9f5f66115ba",
   "metadata": {
    "tags": []
   },
   "outputs": [],
   "source": [
    "for i in range(df.shape[0]):\n",
    "    print(i, end='\\r')\n",
    "    df.loc[i, 'query_string'] = generar_cadena_or_completa(df.iloc[i,])"
   ]
  },
  {
   "cell_type": "code",
   "execution_count": null,
   "id": "dc2d5229-b7b0-481a-b3be-93de5393c19f",
   "metadata": {
    "tags": []
   },
   "outputs": [],
   "source": [
    "df.loc[0,'query_string']"
   ]
  },
  {
   "cell_type": "markdown",
   "id": "8e396eeb-fbe2-43fc-adf6-e548bdc7793d",
   "metadata": {},
   "source": [
    "## Bluesky"
   ]
  },
  {
   "cell_type": "code",
   "execution_count": 97,
   "id": "5a8cbb34-af5e-4c79-b07d-9d7708f1f4b3",
   "metadata": {
    "tags": []
   },
   "outputs": [],
   "source": [
    "df['bsky_mentions'] = None"
   ]
  },
  {
   "cell_type": "code",
   "execution_count": 99,
   "id": "5e314d8d-0f65-4dc2-82c7-3f3e23d9adb8",
   "metadata": {
    "tags": []
   },
   "outputs": [],
   "source": [
    "search_url = 'https://bsky.social/xrpc/app.bsky.feed.searchPosts'\n",
    "access_token = auth_response.json().get('accessJwt')\n",
    "headers = {\n",
    "            'Authorization': f'Bearer {access_token}'\n",
    "    }"
   ]
  },
  {
   "cell_type": "code",
   "execution_count": null,
   "id": "6cd15e0f-9d6c-44de-a57c-09e47455ede1",
   "metadata": {
    "tags": []
   },
   "outputs": [],
   "source": [
    "df.loc[0,'query_string'].split('|')"
   ]
  },
  {
   "cell_type": "code",
   "execution_count": 103,
   "id": "2c93e2b9-2788-4be1-a3bd-b198f54966f7",
   "metadata": {
    "tags": []
   },
   "outputs": [],
   "source": [
    "df_bsky = pd.DataFrame()"
   ]
  },
  {
   "cell_type": "code",
   "execution_count": 105,
   "id": "f96e832d-c2a4-4b43-8c39-1a9454e829af",
   "metadata": {
    "tags": []
   },
   "outputs": [],
   "source": [
    "bsky_columns = ['uri', 'cid', 'indexedAt', 'record_text', 'author_did', 'author_handle', 'record_text', 'replyCount', 'repostCount', 'likeCount', 'quoteCount']"
   ]
  },
  {
   "cell_type": "code",
   "execution_count": null,
   "id": "121d724b-88b5-4708-9f43-75c7814b65d0",
   "metadata": {
    "tags": []
   },
   "outputs": [],
   "source": [
    "for query in range(df.shape[0]):\n",
    "    print(query, end='\\r')\n",
    "    \n",
    "    posts_bsk = []\n",
    "    \n",
    "    for subquery in df.loc[query,'query_string'].split('|'):\n",
    "    \n",
    "        params = {\n",
    "                'q': subquery,\n",
    "                'limit': 100\n",
    "        }\n",
    "\n",
    "        search_response = requests.get(search_url, headers=headers, params=params)\n",
    "        posts = search_response.json().get('posts', [])\n",
    "        \n",
    "        posts_bsk = posts + posts_bsk\n",
    "    \n",
    "    if len(posts_bsk)>0:\n",
    "        df.loc[query, 'bsky_mentions'] = pd.DataFrame(posts_bsk).uri.drop_duplicates().shape[0]\n",
    "        df_bsky_aux = pd.json_normalize(posts_bsk, sep='_')\n",
    "        df_bsky_aux = df_bsky_aux[bsky_columns]\n",
    "        df_bsky_aux['doi'] = df.loc[query,'doi']\n",
    "        df_bsky = pd.concat([df_bsky, df_bsky_aux], axis=0)\n",
    "    else:\n",
    "        df.loc[query, 'bsky_mentions'] = 0"
   ]
  },
  {
   "cell_type": "code",
   "execution_count": null,
   "id": "131a90c5-f060-4d99-b2eb-109b2bb9dc93",
   "metadata": {
    "tags": []
   },
   "outputs": [],
   "source": [
    "df_bsky = df_bsky.reset_index(drop=True).drop_duplicates()\n",
    "df_bsky"
   ]
  },
  {
   "cell_type": "code",
   "execution_count": null,
   "id": "a0166dec-228e-4829-b664-4614efa64632",
   "metadata": {
    "tags": []
   },
   "outputs": [],
   "source": [
    "sum(df['bsky_mentions'])"
   ]
  },
  {
   "cell_type": "code",
   "execution_count": null,
   "id": "e0182a4d-5a91-41c3-9bae-718e636f0133",
   "metadata": {
    "tags": []
   },
   "outputs": [],
   "source": [
    "sum(df['bsky_mentions']>0)"
   ]
  },
  {
   "cell_type": "code",
   "execution_count": null,
   "id": "c84f881e-71c3-4b3c-a171-642e46f09f75",
   "metadata": {
    "tags": []
   },
   "outputs": [],
   "source": [
    "df_bsky.groupby('doi')['author_did'].nunique().reset_index()['author_did'].mean()"
   ]
  },
  {
   "cell_type": "markdown",
   "id": "0b2f5b2e-591a-4710-b125-270ae6619d81",
   "metadata": {
    "tags": []
   },
   "source": [
    "## X (via Altmetric.com)"
   ]
  },
  {
   "cell_type": "code",
   "execution_count": 118,
   "id": "799df223-4a81-46d2-bf5e-657472d28a14",
   "metadata": {
    "tags": []
   },
   "outputs": [],
   "source": [
    "df['x_mentions'] = None"
   ]
  },
  {
   "cell_type": "code",
   "execution_count": null,
   "id": "2c4069a1-6c14-42c0-b4d8-2a060671c7e3",
   "metadata": {
    "tags": []
   },
   "outputs": [],
   "source": [
    "for i in range(df.shape[0]):\n",
    "    print(i, end='\\r')\n",
    "    df.loc[i, 'x_mentions'] = get_altmetric_data(re.sub(r'^https://doi.org/', '', df.loc[i,'doi']))"
   ]
  },
  {
   "cell_type": "code",
   "execution_count": null,
   "id": "f7860c91-2d72-4a7e-9b70-b18ee83c5130",
   "metadata": {
    "tags": []
   },
   "outputs": [],
   "source": [
    "sum(df['x_mentions']>0)"
   ]
  },
  {
   "cell_type": "code",
   "execution_count": null,
   "id": "3bf9d8df-fd4a-4b40-8069-b686062f9952",
   "metadata": {
    "tags": []
   },
   "outputs": [],
   "source": [
    "df[df['x_mentions']>0]['x_mentions'].mean()"
   ]
  },
  {
   "cell_type": "markdown",
   "id": "21966f64-b140-4eea-b995-e3267c12babe",
   "metadata": {},
   "source": [
    "## Export"
   ]
  },
  {
   "cell_type": "code",
   "execution_count": 130,
   "id": "28c4cffd-f8e4-48bc-9703-0b9fb3c07359",
   "metadata": {
    "tags": []
   },
   "outputs": [],
   "source": [
    "df.to_csv('results/joi.tsv', sep='\\t', index=False)"
   ]
  },
  {
   "cell_type": "code",
   "execution_count": 132,
   "id": "f6331cfa-798f-455e-aeec-1c817aecaebf",
   "metadata": {
    "tags": []
   },
   "outputs": [],
   "source": [
    "df_bsky.to_csv('results/joi_bsky.tsv', sep='\\t', index=False)"
   ]
  },
  {
   "cell_type": "code",
   "execution_count": null,
   "id": "75c77639-4596-4f7c-b736-fc36359c720f",
   "metadata": {
    "tags": []
   },
   "outputs": [],
   "source": [
    "a.sort_values('bsky_mentions')"
   ]
  },
  {
   "cell_type": "markdown",
   "id": "8307a56a-587c-4be3-83fb-bd95d4679cbf",
   "metadata": {
    "jp-MarkdownHeadingCollapsed": true,
    "tags": []
   },
   "source": [
    "# 4. QSS"
   ]
  },
  {
   "cell_type": "code",
   "execution_count": null,
   "id": "fc072fae-5db5-40ef-a955-d1887b646a1c",
   "metadata": {
    "tags": []
   },
   "outputs": [],
   "source": [
    "df = pd.read_csv('data/qss.csv')\n",
    "df['title'] = df['title'].str.replace('&amp;', '&', regex=False)\n",
    "df"
   ]
  },
  {
   "cell_type": "code",
   "execution_count": null,
   "id": "734b225b-b5d8-434a-a7d1-093aaf89d46e",
   "metadata": {
    "tags": []
   },
   "outputs": [],
   "source": [
    "df.type.value_counts()"
   ]
  },
  {
   "cell_type": "code",
   "execution_count": null,
   "id": "7366a422-12dd-4405-98ff-818d29a88608",
   "metadata": {
    "tags": []
   },
   "outputs": [],
   "source": [
    "requests.head('https://doi.org/10.1162/qss_a_00337', allow_redirects=True, timeout=15)"
   ]
  },
  {
   "cell_type": "markdown",
   "id": "67d89012-4b93-48b6-b6bc-78f2563ca785",
   "metadata": {
    "tags": []
   },
   "source": [
    "## Solve URL"
   ]
  },
  {
   "cell_type": "code",
   "execution_count": 204,
   "id": "d00d2f93-11bc-45da-bb7d-2acc94c4b885",
   "metadata": {
    "tags": []
   },
   "outputs": [],
   "source": [
    "df['url_final'] = None"
   ]
  },
  {
   "cell_type": "code",
   "execution_count": null,
   "id": "caa366a8-37a2-4812-83b2-6be3c77bc3b0",
   "metadata": {
    "tags": []
   },
   "outputs": [],
   "source": [
    "for i in range(df.shape[0]):\n",
    "    print(i, end='\\r')\n",
    "    df.loc[i, 'url_final'] = doi_to_url(df.loc[i, 'doi'])"
   ]
  },
  {
   "cell_type": "markdown",
   "id": "b78aa296-2190-4213-ae07-5607f955d077",
   "metadata": {
    "tags": []
   },
   "source": [
    "## Query string"
   ]
  },
  {
   "cell_type": "code",
   "execution_count": 218,
   "id": "646e412e-81d9-4284-979c-c58358992580",
   "metadata": {
    "tags": []
   },
   "outputs": [],
   "source": [
    "df['query_string'] = None"
   ]
  },
  {
   "cell_type": "code",
   "execution_count": null,
   "id": "ce86ce3b-d585-4c24-a911-fe229a44ab83",
   "metadata": {
    "tags": []
   },
   "outputs": [],
   "source": [
    "for i in range(df.shape[0]):\n",
    "    print(i, end='\\r')\n",
    "    df.loc[i, 'query_string'] = generar_cadena_or_completa(df.iloc[i,])"
   ]
  },
  {
   "cell_type": "code",
   "execution_count": null,
   "id": "007f6c36-146e-403f-8102-2f6f8ca4eea7",
   "metadata": {
    "tags": []
   },
   "outputs": [],
   "source": [
    "df.loc[0,'query_string']"
   ]
  },
  {
   "cell_type": "markdown",
   "id": "1ad274e1-aef9-4ede-9b1c-1cdba18fcee9",
   "metadata": {},
   "source": [
    "## Bluesky"
   ]
  },
  {
   "cell_type": "code",
   "execution_count": 286,
   "id": "97e262dc-e4b2-4059-ab18-5d04f9686e7a",
   "metadata": {
    "tags": []
   },
   "outputs": [],
   "source": [
    "df['bsky_mentions'] = None"
   ]
  },
  {
   "cell_type": "code",
   "execution_count": 280,
   "id": "32462880-0d69-492c-bd49-e6afaa2f8983",
   "metadata": {
    "tags": []
   },
   "outputs": [],
   "source": [
    "search_url = 'https://bsky.social/xrpc/app.bsky.feed.searchPosts'\n",
    "access_token = auth_response.json().get('accessJwt')\n",
    "headers = {\n",
    "            'Authorization': f'Bearer {access_token}'\n",
    "    }"
   ]
  },
  {
   "cell_type": "code",
   "execution_count": null,
   "id": "de104dc8-a0ae-4907-8aa4-5786ba87af12",
   "metadata": {
    "tags": []
   },
   "outputs": [],
   "source": [
    "df.loc[0,'query_string'].split('|')"
   ]
  },
  {
   "cell_type": "code",
   "execution_count": 284,
   "id": "bf300be6-2062-4650-937b-4440776f0f9c",
   "metadata": {
    "tags": []
   },
   "outputs": [],
   "source": [
    "df_bsky = pd.DataFrame()"
   ]
  },
  {
   "cell_type": "code",
   "execution_count": 246,
   "id": "fade35cd-0241-4a08-870b-034c8a3a5a9f",
   "metadata": {
    "tags": []
   },
   "outputs": [],
   "source": [
    "bsky_columns = ['uri', 'cid', 'indexedAt', 'record_text', 'author_did', 'author_handle', 'record_text', 'replyCount', 'repostCount', 'likeCount', 'quoteCount']"
   ]
  },
  {
   "cell_type": "code",
   "execution_count": null,
   "id": "0166d764-98ab-44ae-a477-6ee55ed5bc60",
   "metadata": {
    "tags": []
   },
   "outputs": [],
   "source": [
    "for query in range(df.shape[0]):\n",
    "    print(query, end='\\r')\n",
    "    \n",
    "    posts_bsk = []\n",
    "    \n",
    "    for subquery in df.loc[query,'query_string'].split('|'):\n",
    "    \n",
    "        params = {\n",
    "                'q': subquery,\n",
    "                'limit': 100\n",
    "        }\n",
    "\n",
    "        search_response = requests.get(search_url, headers=headers, params=params)\n",
    "        posts = search_response.json().get('posts', [])\n",
    "        \n",
    "        posts_bsk = posts + posts_bsk\n",
    "    \n",
    "    if len(posts_bsk)>0:\n",
    "        df.loc[query, 'bsky_mentions'] = pd.DataFrame(posts_bsk).uri.drop_duplicates().shape[0]\n",
    "        df_bsky_aux = pd.json_normalize(posts_bsk, sep='_')\n",
    "        df_bsky_aux = df_bsky_aux[bsky_columns]\n",
    "        df_bsky_aux['doi'] = df.loc[query,'doi']\n",
    "        df_bsky = pd.concat([df_bsky, df_bsky_aux], axis=0)\n",
    "    else:\n",
    "        df.loc[query, 'bsky_mentions'] = 0"
   ]
  },
  {
   "cell_type": "code",
   "execution_count": null,
   "id": "98348dea-aac9-4396-acdc-52bbbb091309",
   "metadata": {
    "tags": []
   },
   "outputs": [],
   "source": [
    "df_bsky = df_bsky.reset_index(drop=True).drop_duplicates()\n",
    "df_bsky"
   ]
  },
  {
   "cell_type": "code",
   "execution_count": null,
   "id": "2fd16dcf-3e17-45fc-b78f-342c0c1613ee",
   "metadata": {
    "tags": []
   },
   "outputs": [],
   "source": [
    "sum(df['bsky_mentions'])"
   ]
  },
  {
   "cell_type": "code",
   "execution_count": null,
   "id": "597bd0d7-97c0-4dfe-a0ae-06fb00f46595",
   "metadata": {
    "tags": []
   },
   "outputs": [],
   "source": [
    "sum(df['bsky_mentions']>0)"
   ]
  },
  {
   "cell_type": "code",
   "execution_count": null,
   "id": "741dfb91-5658-4311-ad50-8fc69f275fd3",
   "metadata": {
    "tags": []
   },
   "outputs": [],
   "source": [
    "df_bsky.groupby('doi')['author_did'].nunique().reset_index()['author_did'].mean()"
   ]
  },
  {
   "cell_type": "markdown",
   "id": "5b460c22-3825-4150-be45-8aeea6484bc3",
   "metadata": {
    "tags": []
   },
   "source": [
    "## X (via Altmetric.com)"
   ]
  },
  {
   "cell_type": "code",
   "execution_count": 256,
   "id": "28b229d8-cd4a-4314-80fc-0d3c1453e6d5",
   "metadata": {
    "tags": []
   },
   "outputs": [],
   "source": [
    "df['x_mentions'] = None"
   ]
  },
  {
   "cell_type": "code",
   "execution_count": null,
   "id": "de3f9499-a43a-420d-9810-fc2491dfc7ae",
   "metadata": {
    "tags": []
   },
   "outputs": [],
   "source": [
    "for i in range(df.shape[0]):\n",
    "    print(i, end='\\r')\n",
    "    df.loc[i, 'x_mentions'] = get_altmetric_data(re.sub(r'^https://doi.org/', '', df.loc[i,'doi']))"
   ]
  },
  {
   "cell_type": "markdown",
   "id": "a688c28a-5710-45fc-bd52-c67a4799f992",
   "metadata": {
    "tags": []
   },
   "source": [
    "sum(df['x_mentions']>0)"
   ]
  },
  {
   "cell_type": "code",
   "execution_count": null,
   "id": "7dd1d330-a6d1-4d93-881b-f7ea20c66a54",
   "metadata": {
    "tags": []
   },
   "outputs": [],
   "source": [
    "df[df['x_mentions']>0]['x_mentions'].mean()"
   ]
  },
  {
   "cell_type": "markdown",
   "id": "a32fab0f-c89d-4946-a5d5-baee6c6c313e",
   "metadata": {},
   "source": [
    "## Export"
   ]
  },
  {
   "cell_type": "code",
   "execution_count": 304,
   "id": "d4b50def-3af7-43b1-8fdb-b01ff0aa31eb",
   "metadata": {
    "tags": []
   },
   "outputs": [],
   "source": [
    "df.to_csv('results/qss.tsv', sep='\\t', index=False)"
   ]
  },
  {
   "cell_type": "code",
   "execution_count": 306,
   "id": "5fc7a464-7c08-47ca-8438-b687a5220777",
   "metadata": {
    "tags": []
   },
   "outputs": [],
   "source": [
    "df_bsky.to_csv('results/qss_bsky.tsv', sep='\\t', index=False)"
   ]
  },
  {
   "cell_type": "markdown",
   "id": "b52f2b5e-502a-4b46-a290-ba453416b0a7",
   "metadata": {
    "jp-MarkdownHeadingCollapsed": true,
    "tags": []
   },
   "source": [
    "# 5. Nature"
   ]
  },
  {
   "cell_type": "code",
   "execution_count": null,
   "id": "04050658-01bb-43de-846b-3ab3363927da",
   "metadata": {
    "tags": []
   },
   "outputs": [],
   "source": [
    "df = pd.read_csv('data/top.csv')\n",
    "df['title'] = df['title'].str.replace('&amp;', '&', regex=False)\n",
    "df"
   ]
  },
  {
   "cell_type": "code",
   "execution_count": null,
   "id": "75b37c76-1361-4620-abf5-7b95560ae63a",
   "metadata": {
    "tags": []
   },
   "outputs": [],
   "source": [
    "df['primary_location.source.display_name'].value_counts()"
   ]
  },
  {
   "cell_type": "code",
   "execution_count": 21,
   "id": "b9cd79b4-7117-4e71-affb-ab9d32d71c6b",
   "metadata": {
    "tags": []
   },
   "outputs": [],
   "source": [
    "df = df[df['primary_location.source.display_name']=='Nature'].copy()\n",
    "df.reset_index(drop=True, inplace=True)"
   ]
  },
  {
   "cell_type": "code",
   "execution_count": null,
   "id": "f962d9b6-9aad-4b67-bdf9-6fb277e483b6",
   "metadata": {
    "tags": []
   },
   "outputs": [],
   "source": [
    "df.type.value_counts()"
   ]
  },
  {
   "cell_type": "code",
   "execution_count": null,
   "id": "d0f3d3e6-1ff1-423a-9326-f1537f1a87de",
   "metadata": {
    "tags": []
   },
   "outputs": [],
   "source": [
    "df"
   ]
  },
  {
   "cell_type": "markdown",
   "id": "10ee4f2f-d703-4dc8-a984-38c5a61cb7c9",
   "metadata": {
    "tags": []
   },
   "source": [
    "## Solve URL"
   ]
  },
  {
   "cell_type": "code",
   "execution_count": 28,
   "id": "27f03f10-329a-434c-a9ad-b9f22b288e75",
   "metadata": {
    "tags": []
   },
   "outputs": [],
   "source": [
    "df['url_final'] = None"
   ]
  },
  {
   "cell_type": "code",
   "execution_count": null,
   "id": "da8a4a77-0dff-4f09-b8fd-b204f3889bad",
   "metadata": {
    "tags": []
   },
   "outputs": [],
   "source": [
    "for i in range(df.shape[0]):\n",
    "    print(i, end='\\r')\n",
    "    df.loc[i, 'url_final'] = 'https://www.nature.com/articles/'+re.sub('https://doi.org/10.1038/', '', df.loc[i, 'doi'])"
   ]
  },
  {
   "cell_type": "markdown",
   "id": "de8afe07-60fd-4b4e-8397-85fdc72834c2",
   "metadata": {
    "tags": []
   },
   "source": [
    "## Query string"
   ]
  },
  {
   "cell_type": "code",
   "execution_count": 33,
   "id": "53488518-be52-4a49-8109-b89899a1c58b",
   "metadata": {
    "tags": []
   },
   "outputs": [],
   "source": [
    "df['query_string'] = None"
   ]
  },
  {
   "cell_type": "code",
   "execution_count": null,
   "id": "7b4eab86-d582-4a63-86cf-1d9fdab23ff4",
   "metadata": {
    "tags": []
   },
   "outputs": [],
   "source": [
    "for i in range(df.shape[0]):\n",
    "    print(i, end='\\r')\n",
    "    df.loc[i, 'query_string'] = generar_cadena_or_completa(df.iloc[i,])"
   ]
  },
  {
   "cell_type": "code",
   "execution_count": null,
   "id": "472402dc-324b-4778-ad86-e17202ec541a",
   "metadata": {
    "tags": []
   },
   "outputs": [],
   "source": [
    "df.loc[0,'query_string']"
   ]
  },
  {
   "cell_type": "markdown",
   "id": "c5386906-55b0-4fa3-b697-214417e8c54e",
   "metadata": {},
   "source": [
    "## Bluesky"
   ]
  },
  {
   "cell_type": "code",
   "execution_count": 40,
   "id": "2e746b50-66e1-4c43-be84-8f077f1c104e",
   "metadata": {
    "tags": []
   },
   "outputs": [],
   "source": [
    "df['bsky_mentions'] = None"
   ]
  },
  {
   "cell_type": "code",
   "execution_count": 88,
   "id": "04c9f729-2666-455f-afb3-ac71a136e936",
   "metadata": {
    "tags": []
   },
   "outputs": [],
   "source": [
    "search_url = 'https://bsky.social/xrpc/app.bsky.feed.searchPosts'\n",
    "access_token = auth_response.json().get('accessJwt')\n",
    "headers = {\n",
    "            'Authorization': f'Bearer {access_token}'\n",
    "    }"
   ]
  },
  {
   "cell_type": "code",
   "execution_count": null,
   "id": "6bb6563f-d8e9-4d3f-8a0e-f9697732f42b",
   "metadata": {
    "tags": []
   },
   "outputs": [],
   "source": [
    "df.loc[0,'query_string'].split('|')"
   ]
  },
  {
   "cell_type": "code",
   "execution_count": 46,
   "id": "f77740eb-d11a-4b85-a30f-28230735ba40",
   "metadata": {
    "tags": []
   },
   "outputs": [],
   "source": [
    "df_bsky = pd.DataFrame()"
   ]
  },
  {
   "cell_type": "code",
   "execution_count": 48,
   "id": "911a3cc6-ea94-487e-890f-1a5024724b13",
   "metadata": {
    "tags": []
   },
   "outputs": [],
   "source": [
    "bsky_columns = ['uri', 'cid', 'indexedAt', 'record_text', 'author_did', 'author_handle', 'record_text', 'replyCount', 'repostCount', 'likeCount', 'quoteCount']"
   ]
  },
  {
   "cell_type": "code",
   "execution_count": null,
   "id": "8aac5614-2b36-4876-b724-89524e2ecede",
   "metadata": {
    "tags": []
   },
   "outputs": [],
   "source": [
    "df_bsky"
   ]
  },
  {
   "cell_type": "code",
   "execution_count": null,
   "id": "ec62dfd1-1c2b-4aa8-9008-bf3523e536b4",
   "metadata": {
    "tags": []
   },
   "outputs": [],
   "source": [
    "for query in range(2319,df.shape[0]):\n",
    "    print(query, end='\\r')\n",
    "    posts_bsk = []\n",
    "\n",
    "    for subquery in df.loc[query, 'query_string'].split('|'):\n",
    "        params = {\n",
    "            'q': subquery,\n",
    "            'limit': 100\n",
    "        }\n",
    "        \n",
    "        search_response = requests.get(search_url, headers=headers, params=params)\n",
    "        \n",
    "        if search_response.status_code == 401:\n",
    "            print(\"Token expirado. Reautenticando...\")\n",
    "            auth_response = requests.post(auth_url, json=auth_data)\n",
    "            if auth_response.status_code == 200:\n",
    "                access_token = auth_response.json().get('accessJwt')\n",
    "                headers['Authorization'] = f'Bearer {access_token}'\n",
    "                print(\"Reautenticación exitosa. Reintentando solicitud...\")\n",
    "                search_response = requests.get(search_url, headers=headers, params=params)\n",
    "            else:\n",
    "                print(f\"Error al reautenticar: {auth_response.status_code}\")\n",
    "                exit()\n",
    "\n",
    "        \n",
    "        rate_limit_remaining = int(search_response.headers.get('RateLimit-Remaining', 0))\n",
    "        rate_limit_reset = int(search_response.headers.get('RateLimit-Reset', 0))\n",
    "\n",
    "        if rate_limit_remaining == 0:\n",
    "            current_timestamp = int(time.time())\n",
    "            wait_time = rate_limit_reset - current_timestamp\n",
    "            print(f\"Se alcanzó el límite de solicitudes. Esperando {wait_time} segundos...\")\n",
    "            time.sleep(wait_time)\n",
    "            continue\n",
    "\n",
    "        if search_response.status_code == 200:\n",
    "            posts = search_response.json().get('posts', [])\n",
    "            posts_bsk.extend(posts)\n",
    "        else:\n",
    "            print(f\"Error en la búsqueda: {query}\")\n",
    "            continue\n",
    "\n",
    "    if len(posts_bsk) > 0:\n",
    "        df.loc[query, 'bsky_mentions'] = pd.DataFrame(posts_bsk).uri.drop_duplicates().shape[0]\n",
    "        df_bsky_aux = pd.json_normalize(posts_bsk, sep='_')\n",
    "        df_bsky_aux = df_bsky_aux[bsky_columns]\n",
    "        df_bsky_aux['doi'] = df.loc[query, 'doi']\n",
    "        df_bsky = pd.concat([df_bsky, df_bsky_aux], axis=0)\n",
    "    else:\n",
    "        df.loc[query, 'bsky_mentions'] = 0"
   ]
  },
  {
   "cell_type": "code",
   "execution_count": null,
   "id": "a2c4a0e6-821e-4300-a48f-fc75aa6d466e",
   "metadata": {
    "tags": []
   },
   "outputs": [],
   "source": [
    "df_bsky = df_bsky.reset_index(drop=True).drop_duplicates()\n",
    "df_bsky"
   ]
  },
  {
   "cell_type": "code",
   "execution_count": null,
   "id": "459defe6-4883-4da9-8870-c9f7f8b6c1e5",
   "metadata": {
    "tags": []
   },
   "outputs": [],
   "source": [
    "sum(df['bsky_mentions'])"
   ]
  },
  {
   "cell_type": "code",
   "execution_count": null,
   "id": "76b3fbe9-12a6-4445-b22b-5bd7decb2358",
   "metadata": {
    "tags": []
   },
   "outputs": [],
   "source": [
    "sum(df['bsky_mentions']>0)"
   ]
  },
  {
   "cell_type": "code",
   "execution_count": null,
   "id": "1c68e630-8ac7-47a2-9efa-499870faf796",
   "metadata": {
    "tags": []
   },
   "outputs": [],
   "source": [
    "df_bsky.groupby('doi')['author_did'].nunique().reset_index()['author_did'].mean()"
   ]
  },
  {
   "cell_type": "markdown",
   "id": "1d45b114-8068-4f7c-9a21-2ea286d04386",
   "metadata": {
    "tags": []
   },
   "source": [
    "## X (via Altmetric.com)"
   ]
  },
  {
   "cell_type": "code",
   "execution_count": 88,
   "id": "bc848f8b-5675-407f-970a-933fd1e0261b",
   "metadata": {
    "tags": []
   },
   "outputs": [],
   "source": [
    "df['x_mentions'] = None"
   ]
  },
  {
   "cell_type": "code",
   "execution_count": null,
   "id": "d048ccf5-5e51-486f-aff6-c7c98f51a5b2",
   "metadata": {
    "tags": []
   },
   "outputs": [],
   "source": [
    "for i in range(df.shape[0]):\n",
    "    print(i, end='\\r')\n",
    "    df.loc[i, 'x_mentions'] = get_altmetric_data(re.sub(r'^https://doi.org/', '', df.loc[i,'doi']))"
   ]
  },
  {
   "cell_type": "code",
   "execution_count": null,
   "id": "11d9cd55-9f67-4911-a7e2-2557870201c3",
   "metadata": {
    "tags": []
   },
   "outputs": [],
   "source": [
    "sum(df['x_mentions']>0)"
   ]
  },
  {
   "cell_type": "code",
   "execution_count": null,
   "id": "76b50678-f170-4ea1-accc-393357651d84",
   "metadata": {
    "tags": []
   },
   "outputs": [],
   "source": [
    "df[df['x_mentions']>0]['x_mentions'].mean()"
   ]
  },
  {
   "cell_type": "markdown",
   "id": "2869399f-8c00-43e0-8c5e-a70854c58a39",
   "metadata": {},
   "source": [
    "## Export"
   ]
  },
  {
   "cell_type": "code",
   "execution_count": 96,
   "id": "80035815-ec7d-4493-ab62-3c786884a7fe",
   "metadata": {
    "tags": []
   },
   "outputs": [],
   "source": [
    "df.to_csv('results/nature.tsv', sep='\\t', index=False)"
   ]
  },
  {
   "cell_type": "code",
   "execution_count": 98,
   "id": "0526fb13-6cb7-47e5-9c1d-50caad9502ad",
   "metadata": {
    "tags": []
   },
   "outputs": [],
   "source": [
    "df_bsky.to_csv('results/nature_bsky.tsv', sep='\\t', index=False)"
   ]
  },
  {
   "cell_type": "markdown",
   "id": "d7f46682-9bfa-4ed9-8cea-91b28dfe1836",
   "metadata": {
    "jp-MarkdownHeadingCollapsed": true,
    "tags": []
   },
   "source": [
    "# 6. Science"
   ]
  },
  {
   "cell_type": "code",
   "execution_count": null,
   "id": "58db64c2-b150-4199-bbb2-9011602ebf51",
   "metadata": {
    "tags": []
   },
   "outputs": [],
   "source": [
    "df = pd.read_csv('data/top.csv')\n",
    "df['title'] = df['title'].str.replace('&amp;', '&', regex=False)\n",
    "df"
   ]
  },
  {
   "cell_type": "code",
   "execution_count": null,
   "id": "3258d88a-2b65-41aa-b88b-280c058d9766",
   "metadata": {
    "tags": []
   },
   "outputs": [],
   "source": [
    "df['primary_location.source.display_name'].value_counts()"
   ]
  },
  {
   "cell_type": "code",
   "execution_count": 19,
   "id": "defe8e2b-bd44-4d2c-b21d-1ce8b8ed105d",
   "metadata": {
    "tags": []
   },
   "outputs": [],
   "source": [
    "df = df[df['primary_location.source.display_name']=='Science'].copy()\n",
    "df.reset_index(drop=True, inplace=True)"
   ]
  },
  {
   "cell_type": "code",
   "execution_count": null,
   "id": "523bc29b-8bc8-4f3b-b1c8-1a43910fbcf5",
   "metadata": {
    "tags": []
   },
   "outputs": [],
   "source": [
    "df.type.value_counts()"
   ]
  },
  {
   "cell_type": "code",
   "execution_count": null,
   "id": "92c97102-7725-4593-b446-22d5f53a7686",
   "metadata": {
    "tags": []
   },
   "outputs": [],
   "source": [
    "df"
   ]
  },
  {
   "cell_type": "markdown",
   "id": "bb57638e-48ec-4dfb-af9a-b60d0b096f43",
   "metadata": {
    "tags": []
   },
   "source": [
    "## Solve URL"
   ]
  },
  {
   "cell_type": "code",
   "execution_count": 26,
   "id": "c1a5b54f-8b03-44be-a394-4ad22c86d5c6",
   "metadata": {
    "tags": []
   },
   "outputs": [],
   "source": [
    "df['url_final'] = None"
   ]
  },
  {
   "cell_type": "code",
   "execution_count": null,
   "id": "9acc1d51-532f-4dce-a212-bf3e44f6bf16",
   "metadata": {
    "tags": []
   },
   "outputs": [],
   "source": [
    "for i in range(df.shape[0]):\n",
    "    print(i, end='\\r')\n",
    "    df.loc[i, 'url_final'] = 'https://www.science.org/doi/'+re.sub('https://doi.org/', '', df.loc[i, 'doi'])"
   ]
  },
  {
   "cell_type": "markdown",
   "id": "00ccf0ba-f88f-4e68-a587-03c790122f24",
   "metadata": {
    "tags": []
   },
   "source": [
    "## Query string"
   ]
  },
  {
   "cell_type": "code",
   "execution_count": 31,
   "id": "51e7668c-2ab4-4c43-b86a-d966e9fed042",
   "metadata": {
    "tags": []
   },
   "outputs": [],
   "source": [
    "df['query_string'] = None"
   ]
  },
  {
   "cell_type": "code",
   "execution_count": null,
   "id": "7023aec7-5026-4d9c-ab0c-27a86fbc8ffb",
   "metadata": {
    "tags": []
   },
   "outputs": [],
   "source": [
    "for i in range(df.shape[0]):\n",
    "    print(i, end='\\r')\n",
    "    df.loc[i, 'query_string'] = generar_cadena_or_completa(df.iloc[i,])"
   ]
  },
  {
   "cell_type": "code",
   "execution_count": null,
   "id": "fa89d560-e3ff-4553-9579-035a1fd48783",
   "metadata": {
    "tags": []
   },
   "outputs": [],
   "source": [
    "df.loc[0,'query_string']"
   ]
  },
  {
   "cell_type": "markdown",
   "id": "0d01d39b-8ef3-4018-85c7-de782d786059",
   "metadata": {},
   "source": [
    "## Bluesky"
   ]
  },
  {
   "cell_type": "code",
   "execution_count": 42,
   "id": "a546e6bc-225f-4f92-a8c3-10a22ab33060",
   "metadata": {
    "tags": []
   },
   "outputs": [],
   "source": [
    "df['bsky_mentions'] = None"
   ]
  },
  {
   "cell_type": "code",
   "execution_count": null,
   "id": "b899512f-c8b6-4edc-860e-c862bb8c8b21",
   "metadata": {
    "tags": []
   },
   "outputs": [],
   "source": [
    "df.loc[0,'query_string'].split('|')"
   ]
  },
  {
   "cell_type": "code",
   "execution_count": 169,
   "id": "dfe497a2-1651-4e98-9e99-cbe698155e95",
   "metadata": {
    "tags": []
   },
   "outputs": [],
   "source": [
    "df_bsky = pd.DataFrame()"
   ]
  },
  {
   "cell_type": "code",
   "execution_count": 171,
   "id": "4fed27f9-051e-4013-9e08-2941f6a830d2",
   "metadata": {
    "tags": []
   },
   "outputs": [],
   "source": [
    "bsky_columns = ['uri', 'cid', 'indexedAt', 'record_text', 'author_did', 'author_handle', 'record_text', 'replyCount', 'repostCount', 'likeCount', 'quoteCount']"
   ]
  },
  {
   "cell_type": "code",
   "execution_count": null,
   "id": "2b93d259-8e8a-4ed7-b385-b9d95ee10235",
   "metadata": {},
   "outputs": [],
   "source": [
    "auth_response = requests.post(auth_url, json=auth_data)\n",
    "auth_response"
   ]
  },
  {
   "cell_type": "code",
   "execution_count": 210,
   "id": "f9b05f2b-1c32-4ed2-b49b-5650f5b6a085",
   "metadata": {
    "tags": []
   },
   "outputs": [],
   "source": [
    "search_url = 'https://bsky.social/xrpc/app.bsky.feed.searchPosts'\n",
    "\n",
    "access_token = auth_response.json().get('accessJwt')\n",
    "\n",
    "headers = {\n",
    "            'Authorization': f'Bearer {access_token}'\n",
    "    }"
   ]
  },
  {
   "cell_type": "code",
   "execution_count": null,
   "id": "641acf3e-54bf-4692-8bc6-a5e4afac75e1",
   "metadata": {
    "tags": []
   },
   "outputs": [],
   "source": [
    "for query in range(df.shape[0]):\n",
    "    print(query, end='\\r')\n",
    "    posts_bsk = []\n",
    "\n",
    "    for subquery in df.loc[query, 'query_string'].split('|'):\n",
    "        params = {\n",
    "            'q': subquery,\n",
    "            'limit': 100\n",
    "        }\n",
    "        \n",
    "        search_response = requests.get(search_url, headers=headers, params=params)\n",
    "        \n",
    "        if search_response.status_code == 401:\n",
    "            print(\"Token expirado. Reautenticando...\")\n",
    "            auth_response = requests.post(auth_url, json=auth_data)\n",
    "            if auth_response.status_code == 200:\n",
    "                access_token = auth_response.json().get('accessJwt')\n",
    "                headers['Authorization'] = f'Bearer {access_token}'\n",
    "                print(\"Reautenticación exitosa. Reintentando solicitud...\")\n",
    "                search_response = requests.get(search_url, headers=headers, params=params)\n",
    "            else:\n",
    "                print(f\"Error al reautenticar: {auth_response.status_code}\")\n",
    "                exit()\n",
    "\n",
    "        \n",
    "        rate_limit_remaining = int(search_response.headers.get('RateLimit-Remaining', 0))\n",
    "        rate_limit_reset = int(search_response.headers.get('RateLimit-Reset', 0))\n",
    "\n",
    "        if rate_limit_remaining == 0:\n",
    "            current_timestamp = int(time.time())\n",
    "            wait_time = rate_limit_reset - current_timestamp\n",
    "            print(f\"Se alcanzó el límite de solicitudes. Esperando {wait_time} segundos...\")\n",
    "            time.sleep(wait_time)\n",
    "            continue\n",
    "\n",
    "        if search_response.status_code == 200:\n",
    "            posts = search_response.json().get('posts', [])\n",
    "            posts_bsk.extend(posts)\n",
    "        else:\n",
    "            print(f\"Error en la búsqueda: {query}\")\n",
    "            continue\n",
    "\n",
    "    if len(posts_bsk) > 0:\n",
    "        df.loc[query, 'bsky_mentions'] = pd.DataFrame(posts_bsk).uri.drop_duplicates().shape[0]\n",
    "        df_bsky_aux = pd.json_normalize(posts_bsk, sep='_')\n",
    "        df_bsky_aux = df_bsky_aux[bsky_columns]\n",
    "        df_bsky_aux['doi'] = df.loc[query, 'doi']\n",
    "        df_bsky = pd.concat([df_bsky, df_bsky_aux], axis=0)\n",
    "    else:\n",
    "        df.loc[query, 'bsky_mentions'] = 0"
   ]
  },
  {
   "cell_type": "code",
   "execution_count": null,
   "id": "4ad04210-7a9d-4be3-993a-169e86f06f4e",
   "metadata": {
    "tags": []
   },
   "outputs": [],
   "source": [
    "df_bsky = df_bsky.reset_index(drop=True).drop_duplicates()\n",
    "df_bsky"
   ]
  },
  {
   "cell_type": "code",
   "execution_count": null,
   "id": "e788c7d8-5cae-4dc8-a960-53141304f156",
   "metadata": {
    "tags": []
   },
   "outputs": [],
   "source": [
    "sum(df['bsky_mentions'])"
   ]
  },
  {
   "cell_type": "code",
   "execution_count": null,
   "id": "f88041c3-c409-4afc-99eb-410cda38eec9",
   "metadata": {
    "tags": []
   },
   "outputs": [],
   "source": [
    "sum(df['bsky_mentions']>0)"
   ]
  },
  {
   "cell_type": "code",
   "execution_count": null,
   "id": "55ef21d6-bbdb-45b4-a8ed-fa10fc70ac65",
   "metadata": {
    "tags": []
   },
   "outputs": [],
   "source": [
    "df_bsky.groupby('doi')['author_did'].nunique().reset_index()['author_did'].mean()"
   ]
  },
  {
   "cell_type": "markdown",
   "id": "38faa060-3b62-4df5-ba94-a244ce88e110",
   "metadata": {
    "tags": []
   },
   "source": [
    "## X (via Altmetric.com)"
   ]
  },
  {
   "cell_type": "code",
   "execution_count": 183,
   "id": "0ea2a00f-934c-4a7b-990f-01cdbac9559a",
   "metadata": {
    "tags": []
   },
   "outputs": [],
   "source": [
    "df['x_mentions'] = None"
   ]
  },
  {
   "cell_type": "code",
   "execution_count": null,
   "id": "d5f9659b-bf83-4216-b91c-092f8e69809b",
   "metadata": {
    "tags": []
   },
   "outputs": [],
   "source": [
    "for i in range(df.shape[0]):\n",
    "    print(i, end='\\r')\n",
    "    df.loc[i, 'x_mentions'] = get_altmetric_data(re.sub(r'^https://doi.org/', '', df.loc[i,'doi']))"
   ]
  },
  {
   "cell_type": "code",
   "execution_count": null,
   "id": "1b1c8d6b-1336-4b53-9222-e0768ca56b6b",
   "metadata": {
    "tags": []
   },
   "outputs": [],
   "source": [
    "sum(df['x_mentions']>0)"
   ]
  },
  {
   "cell_type": "code",
   "execution_count": null,
   "id": "c72c146f-3408-49af-bf03-4dabab6aa28d",
   "metadata": {
    "tags": []
   },
   "outputs": [],
   "source": [
    "df[df['x_mentions']>0]['x_mentions'].mean()"
   ]
  },
  {
   "cell_type": "markdown",
   "id": "b04daab9-8585-4102-904f-921bb0a77b45",
   "metadata": {},
   "source": [
    "## Export"
   ]
  },
  {
   "cell_type": "code",
   "execution_count": 228,
   "id": "7fc93cdb-0ce9-49f6-846e-995c8aac580d",
   "metadata": {
    "tags": []
   },
   "outputs": [],
   "source": [
    "df.to_csv('results/science.tsv', sep='\\t', index=False)"
   ]
  },
  {
   "cell_type": "code",
   "execution_count": 230,
   "id": "3658080a-feb3-4cce-bd00-95386ab6749a",
   "metadata": {
    "tags": []
   },
   "outputs": [],
   "source": [
    "df_bsky.to_csv('results/science_bsky.tsv', sep='\\t', index=False)"
   ]
  },
  {
   "cell_type": "markdown",
   "id": "31a548fa-81bc-43f2-9663-fa0f9f080fe6",
   "metadata": {},
   "source": [
    "# 7. PNAS"
   ]
  },
  {
   "cell_type": "code",
   "execution_count": null,
   "id": "498a2edb-3d8e-4f1c-b685-316c9ae60aa4",
   "metadata": {
    "tags": []
   },
   "outputs": [],
   "source": [
    "df = pd.read_csv('data/top.csv')\n",
    "df['title'] = df['title'].str.replace('&amp;', '&', regex=False)\n",
    "df"
   ]
  },
  {
   "cell_type": "code",
   "execution_count": null,
   "id": "d0b7cfd2-5f0c-4e9f-9de8-853a52100d0f",
   "metadata": {
    "tags": []
   },
   "outputs": [],
   "source": [
    "df['primary_location.source.display_name'].value_counts()"
   ]
  },
  {
   "cell_type": "code",
   "execution_count": 19,
   "id": "00c2893a-cd14-423b-8349-024449b485c5",
   "metadata": {
    "tags": []
   },
   "outputs": [],
   "source": [
    "df = df[df['primary_location.source.display_name']=='Proceedings of the National Academy of Sciences'].copy()\n",
    "df.reset_index(drop=True, inplace=True)"
   ]
  },
  {
   "cell_type": "code",
   "execution_count": null,
   "id": "5030de2b-66b9-4573-b325-062a88ce2b0f",
   "metadata": {
    "tags": []
   },
   "outputs": [],
   "source": [
    "df.type.value_counts()"
   ]
  },
  {
   "cell_type": "code",
   "execution_count": null,
   "id": "df919dd0-ebea-46db-9241-3a21af0e9486",
   "metadata": {
    "tags": []
   },
   "outputs": [],
   "source": [
    "df"
   ]
  },
  {
   "cell_type": "markdown",
   "id": "08eebb80-e5d9-4352-bcd6-dbf8da4175db",
   "metadata": {
    "tags": []
   },
   "source": [
    "## Solve URL"
   ]
  },
  {
   "cell_type": "code",
   "execution_count": 27,
   "id": "77d4e436-9967-40c6-b6ad-5c3ff787c77b",
   "metadata": {
    "tags": []
   },
   "outputs": [],
   "source": [
    "df['url_final'] = None"
   ]
  },
  {
   "cell_type": "code",
   "execution_count": null,
   "id": "01ee1b92-a728-4dbc-9455-08707f31354f",
   "metadata": {
    "tags": []
   },
   "outputs": [],
   "source": [
    "for i in range(df.shape[0]):\n",
    "    print(i, end='\\r')\n",
    "    df.loc[i, 'url_final'] = 'https://www.pnas.org/doi/'+re.sub('https://doi.org/', '', df.loc[i, 'doi'])"
   ]
  },
  {
   "cell_type": "markdown",
   "id": "ed9e3c48-264a-4de6-8cd6-3bbdaeab2b74",
   "metadata": {
    "tags": []
   },
   "source": [
    "## Query string"
   ]
  },
  {
   "cell_type": "code",
   "execution_count": 32,
   "id": "9bfe921a-949d-4002-b86e-aef07e7a21a0",
   "metadata": {
    "tags": []
   },
   "outputs": [],
   "source": [
    "df['query_string'] = None"
   ]
  },
  {
   "cell_type": "code",
   "execution_count": null,
   "id": "922ed511-8de6-436d-83d9-ac16f1e169e9",
   "metadata": {
    "tags": []
   },
   "outputs": [],
   "source": [
    "for i in range(df.shape[0]):\n",
    "    print(i, end='\\r')\n",
    "    df.loc[i, 'query_string'] = generar_cadena_or_completa(df.iloc[i,])"
   ]
  },
  {
   "cell_type": "code",
   "execution_count": null,
   "id": "b24d1e8d-6ab2-4657-a95d-05ce8f84ef63",
   "metadata": {
    "tags": []
   },
   "outputs": [],
   "source": [
    "df.loc[0,'query_string']"
   ]
  },
  {
   "cell_type": "markdown",
   "id": "c177f3a1-b14f-4e1c-b646-4a7790878252",
   "metadata": {},
   "source": [
    "## Bluesky"
   ]
  },
  {
   "cell_type": "code",
   "execution_count": 38,
   "id": "af9f140e-8382-44a8-acec-4d9092c02741",
   "metadata": {
    "tags": []
   },
   "outputs": [],
   "source": [
    "df['bsky_mentions'] = None"
   ]
  },
  {
   "cell_type": "code",
   "execution_count": null,
   "id": "97238b3c-a4e9-439f-aba4-3a01b4b853b6",
   "metadata": {
    "tags": []
   },
   "outputs": [],
   "source": [
    "df.loc[0,'query_string'].split('|')"
   ]
  },
  {
   "cell_type": "code",
   "execution_count": 43,
   "id": "09cf0ec0-6d06-4594-a71a-0aa81fca16c1",
   "metadata": {
    "tags": []
   },
   "outputs": [],
   "source": [
    "df_bsky = pd.DataFrame()"
   ]
  },
  {
   "cell_type": "code",
   "execution_count": 45,
   "id": "e4e48830-6009-4d33-b68a-ac8003b18c4d",
   "metadata": {
    "tags": []
   },
   "outputs": [],
   "source": [
    "bsky_columns = ['uri', 'cid', 'indexedAt', 'record_text', 'author_did', 'author_handle', 'record_text', 'replyCount', 'repostCount', 'likeCount', 'quoteCount']"
   ]
  },
  {
   "cell_type": "code",
   "execution_count": null,
   "id": "7cec6e6d-1149-422e-99fd-a093aeda34a5",
   "metadata": {},
   "outputs": [],
   "source": [
    "auth_response = requests.post(auth_url, json=auth_data)\n",
    "auth_response"
   ]
  },
  {
   "cell_type": "code",
   "execution_count": 106,
   "id": "50a3daac-324e-4dc4-911a-e595808f1cc8",
   "metadata": {
    "tags": []
   },
   "outputs": [],
   "source": [
    "search_url = 'https://bsky.social/xrpc/app.bsky.feed.searchPosts'\n",
    "\n",
    "access_token = auth_response.json().get('accessJwt')\n",
    "\n",
    "headers = {\n",
    "            'Authorization': f'Bearer {access_token}'\n",
    "    }"
   ]
  },
  {
   "cell_type": "code",
   "execution_count": null,
   "id": "53337677-5425-4eea-9239-15089e236373",
   "metadata": {
    "tags": []
   },
   "outputs": [],
   "source": [
    "for query in range(3120,df.shape[0]):\n",
    "    print(query, end='\\r')\n",
    "    posts_bsk = []\n",
    "\n",
    "    for subquery in df.loc[query, 'query_string'].split('|'):\n",
    "        params = {\n",
    "            'q': subquery,\n",
    "            'limit': 100\n",
    "        }\n",
    "        \n",
    "        search_response = requests.get(search_url, headers=headers, params=params)\n",
    "        \n",
    "        if search_response.status_code == 401:\n",
    "            print(\"Token expirado. Reautenticando...\")\n",
    "            auth_response = requests.post(auth_url, json=auth_data)\n",
    "            if auth_response.status_code == 200:\n",
    "                access_token = auth_response.json().get('accessJwt')\n",
    "                headers['Authorization'] = f'Bearer {access_token}'\n",
    "                print(\"Reautenticación exitosa. Reintentando solicitud...\")\n",
    "                search_response = requests.get(search_url, headers=headers, params=params)\n",
    "            else:\n",
    "                print(f\"Error al reautenticar: {auth_response.status_code}\")\n",
    "                exit()\n",
    "\n",
    "        \n",
    "        rate_limit_remaining = int(search_response.headers.get('RateLimit-Remaining', 0))\n",
    "        rate_limit_reset = int(search_response.headers.get('RateLimit-Reset', 0))\n",
    "\n",
    "        if rate_limit_remaining == 0:\n",
    "            current_timestamp = int(time.time())\n",
    "            wait_time = rate_limit_reset - current_timestamp\n",
    "            print(f\"Se alcanzó el límite de solicitudes. Esperando {wait_time} segundos...\")\n",
    "            time.sleep(wait_time)\n",
    "            continue\n",
    "\n",
    "        if search_response.status_code == 200:\n",
    "            posts = search_response.json().get('posts', [])\n",
    "            posts_bsk.extend(posts)\n",
    "        else:\n",
    "            print(f\"Error en la búsqueda: {query}\")\n",
    "            continue\n",
    "\n",
    "    if len(posts_bsk) > 0:\n",
    "        df.loc[query, 'bsky_mentions'] = pd.DataFrame(posts_bsk).uri.drop_duplicates().shape[0]\n",
    "        df_bsky_aux = pd.json_normalize(posts_bsk, sep='_')\n",
    "        df_bsky_aux = df_bsky_aux[bsky_columns]\n",
    "        df_bsky_aux['doi'] = df.loc[query, 'doi']\n",
    "        df_bsky = pd.concat([df_bsky, df_bsky_aux], axis=0)\n",
    "    else:\n",
    "        df.loc[query, 'bsky_mentions'] = 0"
   ]
  },
  {
   "cell_type": "code",
   "execution_count": null,
   "id": "491bbbec-86bb-48e7-8483-2dd2e6e66aa6",
   "metadata": {
    "tags": []
   },
   "outputs": [],
   "source": [
    "df_bsky = df_bsky.reset_index(drop=True).drop_duplicates()\n",
    "df_bsky"
   ]
  },
  {
   "cell_type": "code",
   "execution_count": null,
   "id": "047e215d-f6e2-44a5-bdde-015221e05dc0",
   "metadata": {
    "tags": []
   },
   "outputs": [],
   "source": [
    "sum(df['bsky_mentions'])"
   ]
  },
  {
   "cell_type": "code",
   "execution_count": null,
   "id": "4b230b58-1ed3-49b4-8cbf-0ea51396e111",
   "metadata": {
    "tags": []
   },
   "outputs": [],
   "source": [
    "sum(df['bsky_mentions']>0)"
   ]
  },
  {
   "cell_type": "code",
   "execution_count": null,
   "id": "41c76ace-d3fe-4800-9425-deae40d33c0f",
   "metadata": {
    "tags": []
   },
   "outputs": [],
   "source": [
    "df_bsky.groupby('doi')['author_did'].nunique().reset_index()['author_did'].mean()"
   ]
  },
  {
   "cell_type": "markdown",
   "id": "50adfe21-19a3-4417-b8ce-431d1d3bdde2",
   "metadata": {
    "tags": []
   },
   "source": [
    "## X (via Altmetric.com)"
   ]
  },
  {
   "cell_type": "code",
   "execution_count": 119,
   "id": "284c60c8-6598-4598-bb67-20fab88905b5",
   "metadata": {
    "tags": []
   },
   "outputs": [],
   "source": [
    "df['x_mentions'] = None"
   ]
  },
  {
   "cell_type": "code",
   "execution_count": null,
   "id": "effda15b-e464-4191-b4ff-ad371f0b5789",
   "metadata": {
    "tags": []
   },
   "outputs": [],
   "source": [
    "for i in range(df.shape[0]):\n",
    "    print(i, end='\\r')\n",
    "    df.loc[i, 'x_mentions'] = get_altmetric_data(re.sub(r'^https://doi.org/', '', df.loc[i,'doi']))"
   ]
  },
  {
   "cell_type": "code",
   "execution_count": null,
   "id": "5d9d0a4c-958e-4be4-b7d4-232d81f843c2",
   "metadata": {
    "tags": []
   },
   "outputs": [],
   "source": [
    "sum(df['x_mentions']>0)"
   ]
  },
  {
   "cell_type": "code",
   "execution_count": null,
   "id": "60576697-7dce-4f8e-98d7-03d81fbff26d",
   "metadata": {
    "tags": []
   },
   "outputs": [],
   "source": [
    "df[df['x_mentions']>0]['x_mentions'].mean()"
   ]
  },
  {
   "cell_type": "markdown",
   "id": "ae72ac67-7692-4912-8deb-4a59486902ae",
   "metadata": {},
   "source": [
    "## Export"
   ]
  },
  {
   "cell_type": "code",
   "execution_count": 132,
   "id": "dad35351-a0ad-4f9c-a4c4-bd4b205440b1",
   "metadata": {
    "tags": []
   },
   "outputs": [],
   "source": [
    "df.to_csv('results/pnas.tsv', sep='\\t', index=False)"
   ]
  },
  {
   "cell_type": "code",
   "execution_count": 133,
   "id": "2945a8ba-95ad-42a9-9e19-b23739456f56",
   "metadata": {
    "tags": []
   },
   "outputs": [],
   "source": [
    "df_bsky.to_csv('results/pnas_bsky.tsv', sep='\\t', index=False)"
   ]
  }
 ],
 "metadata": {
  "kernelspec": {
   "display_name": "Python 3 (ipykernel)",
   "language": "python",
   "name": "python3"
  },
  "language_info": {
   "codemirror_mode": {
    "name": "ipython",
    "version": 3
   },
   "file_extension": ".py",
   "mimetype": "text/x-python",
   "name": "python",
   "nbconvert_exporter": "python",
   "pygments_lexer": "ipython3",
   "version": "3.11.5"
  }
 },
 "nbformat": 4,
 "nbformat_minor": 5
}
